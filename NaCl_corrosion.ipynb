{
 "cells": [
  {
   "cell_type": "markdown",
   "metadata": {},
   "source": [
    "# Data processing and graph generation for NaCl "
   ]
  },
  {
   "cell_type": "code",
   "execution_count": 7,
   "metadata": {
    "tags": []
   },
   "outputs": [],
   "source": [
    "import os\n",
    "import csv \n",
    "import matplotlib.pyplot as plt\n",
    "import numpy as np\n",
    "import pandas as pd\n",
    "from tkinter import *\n",
    "from tkinter import filedialog\n",
    "from matplotlib import pylab as pylab\n",
    "import matplotlib.gridspec as gridspec\n",
    "from scipy import signal\n"
   ]
  },
  {
   "cell_type": "code",
   "execution_count": 21,
   "metadata": {
    "tags": []
   },
   "outputs": [],
   "source": [
    "def dir_select(start_dir = None):\n",
    "    '''Directory selection to later read all relevant files from directory, need tkinter and filedialog\n",
    "    WARNING: do not forget '/' or '\\\\' (python vs win) before file name'''\n",
    "    root=Tk()\n",
    "    directory=filedialog.askdirectory(initialdir=start_dir)\n",
    "    root.destroy()\n",
    "    #print(directory)\n",
    "    return directory\n",
    "\n",
    "def all_extension_select(directory, extension):\n",
    "    ''' Creates list with all files pertaining to relevant extension for the folder inserted as directory'''\n",
    "    all_files_names=os.listdir(directory)\n",
    "#    print(all_files_names , '\\n')\n",
    "    txt_files=list()\n",
    "    for a in range(len(all_files_names)):\n",
    "        if all_files_names[a].find(extension)>0:\n",
    "            txt_files.insert(a, all_files_names[a])\n",
    "    #print(txt_files)\n",
    "    return txt_files\n",
    "\n",
    "def textfile_to_linelist(txtfilepath):\n",
    "    '''Creates a list of strings from the text file !!Give complete file path with directory'''\n",
    "    with open(txtfilepath,  encoding='utf8', errors='ignore') as f:\n",
    "        lines=f.readlines()\n",
    "        f.close()\n",
    "    return lines\n",
    "def file_select(start_dir=None):\n",
    "    root=Tk()\n",
    "    filepath=filedialog.askopenfilename(initialdir=start_dir)\n",
    "    root.destroy()\n",
    "    return filepath"
   ]
  },
  {
   "cell_type": "code",
   "execution_count": 56,
   "metadata": {},
   "outputs": [],
   "source": [
    "def OCP_to_array(filepath_list):\n",
    "    '''Takes a list with the complete filepath of each OCP.txt file and returns 2lists : header and unit as well as an array with rows for data, column for data type and depth for file in the list'''\n",
    "    OCP_lines=textfile_to_linelist(filepath_list[0])\n",
    "    OCP_headers_str=OCP_lines[49].split('\\t')\n",
    "    OCP_units_str=OCP_lines[50].split('\\t')\n",
    "    OCP_headers_str.pop(0)\n",
    "    OCP_units_str.pop(0)\n",
    "    OCP_headers_str.pop(-2)\n",
    "    OCP_units_str.pop(-2)\n",
    "    \n",
    "    \n",
    "    OCP__array=np.zeros((len(OCP_lines[51:]),len(OCP_headers_str), len(filepath_list))) #array initialisation needs the first file to have already been scanned to determine row x columns size \n",
    "    for i in range(len(filepath_list)): #for each OCP file in chosen folder we need to split the read lines from the txt file into a list with the columns seperated\n",
    "        OCP__lines=textfile_to_linelist(filepath_list[i])\n",
    "        OCP__data=[data.split('\\t') for data in OCP__lines[51:]]\n",
    "        for data in OCP__data:\n",
    "            data.pop(0) # We pop the empty list\n",
    "            data.pop(-2)# We pop the column of text (no idea what it is)\n",
    "        row=0 # Array index initiation\n",
    "        file_index=i # Easier to read \n",
    "        for data in OCP__data: # For row in the data\n",
    "            col=0 # Array index initiation\n",
    "            for each in data: # For each entry in the row (loop over the different columns: 0 then 1 then 2 etc...) \n",
    "                each=each.replace(',', '.') # txt file contains comas instead of point which are prefered to read floats (decimals)\n",
    "                each=each.replace('\\n', '') # last entry has a \\n character to be removed\n",
    "                OCP__array[row,col, file_index]=float(each) # Filling the np array\n",
    "                col+=1 # Indexation incrementation for next iteration of the loop which will look at the next data 'column'\n",
    "            row+=1 # once the first row is processed we increment row index\n",
    "    return OCP_headers_str , OCP_units_str , OCP__array\n",
    "\n",
    "def EIS_to_array(filepath_list):\n",
    "    '''Takes a list with the complete filepath of each EIS.txt file and returns 2lists : header and unit as well as an array with rows for data, column for data type and depth for file in the list'''\n",
    "    EIS_lines=textfile_to_linelist(filepath_list[0])\n",
    "    EIS_headers_str=EIS_lines[54].split('\\t')\n",
    "    EIS_units_str=EIS_lines[55].split('\\t')\n",
    "    EIS_headers_str.pop(0)\n",
    "    EIS_units_str.pop(0)\n",
    "    \n",
    "    \n",
    "    EIS__array=np.zeros((len(EIS_lines[56:]),len(EIS_headers_str), len(filepath_list)))\n",
    "    for i in range(len(filepath_list)):\n",
    "        EIS__lines=textfile_to_linelist(filepath_list[i])\n",
    "        EIS__data=[data.split('\\t') for data in EIS__lines[56:]]\n",
    "        row=0\n",
    "        for data in EIS__data:\n",
    "            data.pop(0)\n",
    "            col=0\n",
    "            for each in data:\n",
    "                each=each.replace(',', '.')\n",
    "                each=each.replace('\\n', '')\n",
    "                EIS__array[row,col, i]=float(each)\n",
    "                col+=1\n",
    "            row+=1\n",
    "    return EIS_headers_str, EIS_units_str, EIS__array\n",
    "\n",
    "def POTDYN_to_array(filepath_list):\n",
    "    '''Takes filepath list of POTDYN.txt files and returns headers, uits (lists) and data array'''\n",
    "    POTDYN_lines=textfile_to_linelist(filepath_list[0])\n",
    "    POTDYN_headers=POTDYN_lines[57].split('\\t')\n",
    "    POTDYN_units=POTDYN_lines[58].split('\\t')\n",
    "    POTDYN_headers.pop(0)\n",
    "    POTDYN_headers.pop(-2)\n",
    "    POTDYN_units.pop(0)\n",
    "    POTDYN_units.pop(-2)\n",
    "    \n",
    "    POTDYN__array=np.zeros((len(POTDYN_lines[59:]), len(POTDYN_headers), len(filepath_list)))\n",
    "    \n",
    "    for i in range(len(filepath_list)):\n",
    "        POTDYN__lines=textfile_to_linelist(filepath_list[i])\n",
    "        POTDYN__data=[data.split('\\t') for data in POTDYN__lines[59:]]\n",
    "        row=0\n",
    "        for data in POTDYN__data:\n",
    "            data.pop(0)\n",
    "            data.pop(-2)\n",
    "            col=0\n",
    "\n",
    "            for each in data:\n",
    "                each=each.replace(',', '.')\n",
    "                each=each.replace('\\n', '')\n",
    "                POTDYN__array[row,col, i]=float(each)\n",
    "                col+=1\n",
    "            row+=1\n",
    "    return POTDYN_headers, POTDYN_units, POTDYN__array\n",
    "\n",
    "                   \n",
    "def sort_files(filepath_list):\n",
    "    '''Return 4 lists: OCP# files, EIS# files from cycles OCP after cycles and POTDYN '''\n",
    "    OCP_cycle_filepath_list=[]\n",
    "    EIS_cycle_filepath_list=[]\n",
    "    OCP_filepath_list=[]\n",
    "    POTDYN_filepath_list=[]\n",
    "\n",
    "    for file in filepath_list:\n",
    "        if file.find('OCP')>0 and file.find('#')>0:\n",
    "            OCP_cycle_filepath_list.append(file)\n",
    "        if file.find('EIS')>0 and file.find('#')>0:\n",
    "            EIS_cycle_filepath_list.append(file)\n",
    "        if file.find('OCP')>0 and not file.find('#')>0:\n",
    "            OCP_filepath_list.append(file)\n",
    "        if file.find('POTDYN')>0:\n",
    "            POTDYN_filepath_list.append(file)\n",
    "    OCP_cycle_filepath_list.sort()\n",
    "    EIS_cycle_filepath_list.sort()\n",
    "    OCP_filepath_list.sort()\n",
    "    POTDYN_filepath_list.sort()\n",
    "    return OCP_cycle_filepath_list, EIS_cycle_filepath_list, OCP_filepath_list, POTDYN_filepath_list\n",
    "    \n",
    "    \n"
   ]
  },
  {
   "cell_type": "code",
   "execution_count": 37,
   "metadata": {},
   "outputs": [],
   "source": [
    "colors=['#111111', '#aa0000', '#00aa00', '#0000aa', '#aa5500', '#aa5555', '#00aa55', '#55aa55', '#5500aa', '#5555aa']"
   ]
  },
  {
   "cell_type": "markdown",
   "metadata": {},
   "source": [
    "# First: directory selection:\n",
    "Select directory containing relevant .txt files"
   ]
  },
  {
   "cell_type": "code",
   "execution_count": 27,
   "metadata": {
    "tags": []
   },
   "outputs": [],
   "source": [
    "directory=dir_select(start_dir='/home/dasilvatousch/PydataWork/')\n",
    "file_extension='.txt'\n",
    "txt_files=all_extension_select(directory, file_extension)\n",
    "i=0\n",
    "for i in range(len(txt_files)):\n",
    "    txt_files[i]=directory+'/'+txt_files[i]\n",
    "    \n",
    "OCP_cycle_filepaths, EIS_cycle_filepaths, OCP_filepath, POTDYN_filepath=sort_files(txt_files)\n",
    "\n"
   ]
  },
  {
   "cell_type": "code",
   "execution_count": 57,
   "metadata": {},
   "outputs": [],
   "source": [
    "OCP_cycle_header, OCP_cycle_units, OCP_cycle_array=OCP_to_array(OCP_cycle_filepaths)\n",
    "EIS_header, EIS_units, EIS_cycle_array=EIS_to_array(EIS_cycle_filepaths)\n",
    "OCP_header, OCP_units, OCP_array=OCP_to_array(OCP_filepath)\n",
    "POTDYN_header, POTDYN_units, POTDYN_array=POTDYN_to_array(POTDYN_filepath)\n"
   ]
  },
  {
   "cell_type": "code",
   "execution_count": 61,
   "metadata": {},
   "outputs": [
    {
     "name": "stdout",
     "output_type": "stream",
     "text": [
      "[ 0.00000e+00  1.00000e+00 -7.50555e-01 -2.14357e-08  0.00000e+00\n",
      " -7.50700e-01  1.41851e-03  4.00000e+00 -3.27620e+02]\n"
     ]
    }
   ],
   "source": []
  },
  {
   "cell_type": "markdown",
   "metadata": {},
   "source": [
    "# Plotting both anodic and cathodic results:"
   ]
  },
  {
   "cell_type": "code",
   "execution_count": 18,
   "metadata": {},
   "outputs": [
    {
     "data": {
      "image/png": "[encoded data removed]",
      "text/plain": [
       "<Figure size 720x720 with 1 Axes>"
      ]
     },
     "metadata": {
      "needs_background": "light"
     },
     "output_type": "display_data"
    }
   ],
   "source": [
    "fig=plt.figure(figsize=(10,10))\n",
    "plt.plot(APOT[:,3],APOT[:,2], label='Anodic cycle', color='#5555aa')\n",
    "plt.plot(CPOT[:,3], abs(CPOT[:,2]), label='Catodic cycle', color='#000055')\n",
    "\n",
    "plt.xlabel('V vs Vref (V)', fontsize=14)\n",
    "plt.ylabel('I (A)', fontsize=14)\n",
    "plt.legend()\n",
    "plt.minorticks_on()\n",
    "plt.tick_params(axis='both', which='major', length=10, direction='in', width=5)\n",
    "plt.tick_params(axis='both', which='minor', length=5, direction='in', width=2)\n",
    "plt.show()"
   ]
  }
 ],
 "metadata": {
  "kernelspec": {
   "display_name": "Python 3",
   "language": "python",
   "name": "python3"
  },
  "language_info": {
   "codemirror_mode": {
    "name": "ipython",
    "version": 3
   },
   "file_extension": ".py",
   "mimetype": "text/x-python",
   "name": "python",
   "nbconvert_exporter": "python",
   "pygments_lexer": "ipython3",
   "version": "3.8.10"
  }
 },
 "nbformat": 4,
 "nbformat_minor": 4
}
